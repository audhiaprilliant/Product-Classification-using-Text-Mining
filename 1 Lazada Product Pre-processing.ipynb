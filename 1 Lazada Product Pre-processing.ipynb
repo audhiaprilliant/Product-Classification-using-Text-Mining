{
 "cells": [
  {
   "cell_type": "markdown",
   "metadata": {},
   "source": [
    "# Lazada Product Classifier"
   ]
  },
  {
   "cell_type": "markdown",
   "metadata": {},
   "source": [
    "### Audhi Aprilliant"
   ]
  },
  {
   "cell_type": "markdown",
   "metadata": {},
   "source": [
    "Read more about text pre-processing [HERE](https://medium.com/@ksnugroho/dasar-text-preprocessing-dengan-python-a4fa52608ffe)"
   ]
  },
  {
   "cell_type": "markdown",
   "metadata": {},
   "source": [
    "## 1 Import Modules"
   ]
  },
  {
   "cell_type": "code",
   "execution_count": 108,
   "metadata": {
    "ExecuteTime": {
     "end_time": "2020-03-17T19:26:37.574609Z",
     "start_time": "2020-03-17T19:26:37.564709Z"
    }
   },
   "outputs": [],
   "source": [
    "import pandas as pd                   # Dataframe manipulation\n",
    "import numpy as np                    # Mathematics operation\n",
    "import re                             # Regular expression\n",
    "import itertools\n",
    "import collections                    # Collections\n",
    "import string\n",
    "from collections import OrderedDict\n",
    "from Sastrawi.Stemmer.StemmerFactory import StemmerFactory\n",
    "from Sastrawi.StopWordRemover.StopWordRemoverFactory import StopWordRemoverFactory\n",
    "from nltk.tokenize import word_tokenize"
   ]
  },
  {
   "cell_type": "markdown",
   "metadata": {},
   "source": [
    "## 2 Load the Data"
   ]
  },
  {
   "cell_type": "code",
   "execution_count": 109,
   "metadata": {
    "ExecuteTime": {
     "end_time": "2020-03-17T19:26:37.786189Z",
     "start_time": "2020-03-17T19:26:37.581078Z"
    }
   },
   "outputs": [],
   "source": [
    "data_lazada = pd.read_csv('Datasets/lazada-products.csv',usecols=['title','category'])"
   ]
  },
  {
   "cell_type": "code",
   "execution_count": 110,
   "metadata": {
    "ExecuteTime": {
     "end_time": "2020-03-17T19:26:37.858945Z",
     "start_time": "2020-03-17T19:26:37.791019Z"
    }
   },
   "outputs": [
    {
     "name": "stdout",
     "output_type": "stream",
     "text": [
      "Dimension of the data:\n",
      "7020 rows and 2 columns\n"
     ]
    },
    {
     "data": {
      "text/html": [
       "<div>\n",
       "<style scoped>\n",
       "    .dataframe tbody tr th:only-of-type {\n",
       "        vertical-align: middle;\n",
       "    }\n",
       "\n",
       "    .dataframe tbody tr th {\n",
       "        vertical-align: top;\n",
       "    }\n",
       "\n",
       "    .dataframe thead th {\n",
       "        text-align: right;\n",
       "    }\n",
       "</style>\n",
       "<table border=\"1\" class=\"dataframe\">\n",
       "  <thead>\n",
       "    <tr style=\"text-align: right;\">\n",
       "      <th></th>\n",
       "      <th>title</th>\n",
       "      <th>category</th>\n",
       "    </tr>\n",
       "  </thead>\n",
       "  <tbody>\n",
       "    <tr>\n",
       "      <th>0</th>\n",
       "      <td>[Lazada Exclusive] Infinix Smart 4 2/32GB - Du...</td>\n",
       "      <td>handphone</td>\n",
       "    </tr>\n",
       "    <tr>\n",
       "      <th>1</th>\n",
       "      <td>[Lazada Special Edition] Infinix Hot 8 3/32GB ...</td>\n",
       "      <td>handphone</td>\n",
       "    </tr>\n",
       "    <tr>\n",
       "      <th>2</th>\n",
       "      <td>Realme C2 2/32 Hp Murah 4.000 mAh Battery, Oct...</td>\n",
       "      <td>handphone</td>\n",
       "    </tr>\n",
       "    <tr>\n",
       "      <th>3</th>\n",
       "      <td>Vivo Y12 hp 3GB 32GB/64GB All Screen 6.35 inch...</td>\n",
       "      <td>handphone</td>\n",
       "    </tr>\n",
       "    <tr>\n",
       "      <th>4</th>\n",
       "      <td>Realme 5i hp 4GB/64GB 4GB/128GB Qualcomm Snapd...</td>\n",
       "      <td>handphone</td>\n",
       "    </tr>\n",
       "  </tbody>\n",
       "</table>\n",
       "</div>"
      ],
      "text/plain": [
       "                                               title   category\n",
       "0  [Lazada Exclusive] Infinix Smart 4 2/32GB - Du...  handphone\n",
       "1  [Lazada Special Edition] Infinix Hot 8 3/32GB ...  handphone\n",
       "2  Realme C2 2/32 Hp Murah 4.000 mAh Battery, Oct...  handphone\n",
       "3  Vivo Y12 hp 3GB 32GB/64GB All Screen 6.35 inch...  handphone\n",
       "4  Realme 5i hp 4GB/64GB 4GB/128GB Qualcomm Snapd...  handphone"
      ]
     },
     "execution_count": 110,
     "metadata": {},
     "output_type": "execute_result"
    }
   ],
   "source": [
    "print('Dimension of the data:\\n{}'.format(data_lazada.shape[0]),\n",
    "      'rows and {}'.format(data_lazada.shape[1]),'columns')\n",
    "data_lazada.head()"
   ]
  },
  {
   "cell_type": "code",
   "execution_count": 111,
   "metadata": {
    "ExecuteTime": {
     "end_time": "2020-03-17T19:26:38.098801Z",
     "start_time": "2020-03-17T19:26:37.865052Z"
    },
    "scrolled": true
   },
   "outputs": [
    {
     "name": "stdout",
     "output_type": "stream",
     "text": [
      "<class 'pandas.core.frame.DataFrame'>\n",
      "RangeIndex: 7020 entries, 0 to 7019\n",
      "Data columns (total 2 columns):\n",
      "title       7020 non-null object\n",
      "category    7020 non-null object\n",
      "dtypes: object(2)\n",
      "memory usage: 109.8+ KB\n",
      "None\n"
     ]
    }
   ],
   "source": [
    "print(data_lazada.info())"
   ]
  },
  {
   "cell_type": "markdown",
   "metadata": {},
   "source": [
    "## 3 Tokenization"
   ]
  },
  {
   "cell_type": "markdown",
   "metadata": {},
   "source": [
    "### Duplicated Data Removal"
   ]
  },
  {
   "cell_type": "code",
   "execution_count": 112,
   "metadata": {
    "ExecuteTime": {
     "end_time": "2020-03-17T19:26:38.260364Z",
     "start_time": "2020-03-17T19:26:38.105317Z"
    }
   },
   "outputs": [
    {
     "name": "stdout",
     "output_type": "stream",
     "text": [
      "Dimension of non-duplicated data:\n",
      "6735 rows and 2 columns\n"
     ]
    }
   ],
   "source": [
    "data_lazada = data_lazada.drop_duplicates(subset=['title']).reset_index(drop=True)\n",
    "print('Dimension of non-duplicated data:\\n{}'.format(data_lazada.shape[0]),\n",
    "      'rows and {}'.format(data_lazada.shape[1]),'columns')"
   ]
  },
  {
   "cell_type": "markdown",
   "metadata": {},
   "source": [
    "### 3.1 Case Folding"
   ]
  },
  {
   "cell_type": "code",
   "execution_count": 113,
   "metadata": {
    "ExecuteTime": {
     "end_time": "2020-03-17T19:26:52.277147Z",
     "start_time": "2020-03-17T19:26:38.268076Z"
    },
    "scrolled": true
   },
   "outputs": [],
   "source": [
    "for i in range(data_lazada.shape[0]):\n",
    "    data_lazada.loc[i,'title'] = data_lazada.loc[i,'title'].lower()"
   ]
  },
  {
   "cell_type": "code",
   "execution_count": 114,
   "metadata": {
    "ExecuteTime": {
     "end_time": "2020-03-17T19:26:52.305247Z",
     "start_time": "2020-03-17T19:26:52.283632Z"
    }
   },
   "outputs": [
    {
     "data": {
      "text/html": [
       "<div>\n",
       "<style scoped>\n",
       "    .dataframe tbody tr th:only-of-type {\n",
       "        vertical-align: middle;\n",
       "    }\n",
       "\n",
       "    .dataframe tbody tr th {\n",
       "        vertical-align: top;\n",
       "    }\n",
       "\n",
       "    .dataframe thead th {\n",
       "        text-align: right;\n",
       "    }\n",
       "</style>\n",
       "<table border=\"1\" class=\"dataframe\">\n",
       "  <thead>\n",
       "    <tr style=\"text-align: right;\">\n",
       "      <th></th>\n",
       "      <th>title</th>\n",
       "      <th>category</th>\n",
       "    </tr>\n",
       "  </thead>\n",
       "  <tbody>\n",
       "    <tr>\n",
       "      <th>0</th>\n",
       "      <td>[lazada exclusive] infinix smart 4 2/32gb - du...</td>\n",
       "      <td>handphone</td>\n",
       "    </tr>\n",
       "    <tr>\n",
       "      <th>1</th>\n",
       "      <td>[lazada special edition] infinix hot 8 3/32gb ...</td>\n",
       "      <td>handphone</td>\n",
       "    </tr>\n",
       "    <tr>\n",
       "      <th>2</th>\n",
       "      <td>realme c2 2/32 hp murah 4.000 mah battery, oct...</td>\n",
       "      <td>handphone</td>\n",
       "    </tr>\n",
       "    <tr>\n",
       "      <th>3</th>\n",
       "      <td>vivo y12 hp 3gb 32gb/64gb all screen 6.35 inch...</td>\n",
       "      <td>handphone</td>\n",
       "    </tr>\n",
       "    <tr>\n",
       "      <th>4</th>\n",
       "      <td>realme 5i hp 4gb/64gb 4gb/128gb qualcomm snapd...</td>\n",
       "      <td>handphone</td>\n",
       "    </tr>\n",
       "  </tbody>\n",
       "</table>\n",
       "</div>"
      ],
      "text/plain": [
       "                                               title   category\n",
       "0  [lazada exclusive] infinix smart 4 2/32gb - du...  handphone\n",
       "1  [lazada special edition] infinix hot 8 3/32gb ...  handphone\n",
       "2  realme c2 2/32 hp murah 4.000 mah battery, oct...  handphone\n",
       "3  vivo y12 hp 3gb 32gb/64gb all screen 6.35 inch...  handphone\n",
       "4  realme 5i hp 4gb/64gb 4gb/128gb qualcomm snapd...  handphone"
      ]
     },
     "execution_count": 114,
     "metadata": {},
     "output_type": "execute_result"
    }
   ],
   "source": [
    "data_lazada.head()"
   ]
  },
  {
   "cell_type": "markdown",
   "metadata": {},
   "source": [
    "### 3.2 Number Removal"
   ]
  },
  {
   "cell_type": "code",
   "execution_count": 115,
   "metadata": {
    "ExecuteTime": {
     "end_time": "2020-03-17T19:26:52.414121Z",
     "start_time": "2020-03-17T19:26:52.311310Z"
    }
   },
   "outputs": [],
   "source": [
    "def number_removal(data_text):\n",
    "    return re.sub('\\d+','',data_text)"
   ]
  },
  {
   "cell_type": "code",
   "execution_count": 116,
   "metadata": {
    "ExecuteTime": {
     "end_time": "2020-03-17T19:26:52.629256Z",
     "start_time": "2020-03-17T19:26:52.424083Z"
    }
   },
   "outputs": [],
   "source": [
    "data_lazada['title'] = data_lazada['title'].apply(remove_number)"
   ]
  },
  {
   "cell_type": "code",
   "execution_count": 117,
   "metadata": {
    "ExecuteTime": {
     "end_time": "2020-03-17T19:26:52.660818Z",
     "start_time": "2020-03-17T19:26:52.635630Z"
    }
   },
   "outputs": [
    {
     "data": {
      "text/html": [
       "<div>\n",
       "<style scoped>\n",
       "    .dataframe tbody tr th:only-of-type {\n",
       "        vertical-align: middle;\n",
       "    }\n",
       "\n",
       "    .dataframe tbody tr th {\n",
       "        vertical-align: top;\n",
       "    }\n",
       "\n",
       "    .dataframe thead th {\n",
       "        text-align: right;\n",
       "    }\n",
       "</style>\n",
       "<table border=\"1\" class=\"dataframe\">\n",
       "  <thead>\n",
       "    <tr style=\"text-align: right;\">\n",
       "      <th></th>\n",
       "      <th>title</th>\n",
       "      <th>category</th>\n",
       "    </tr>\n",
       "  </thead>\n",
       "  <tbody>\n",
       "    <tr>\n",
       "      <th>0</th>\n",
       "      <td>[lazada exclusive] infinix smart  /gb - dual c...</td>\n",
       "      <td>handphone</td>\n",
       "    </tr>\n",
       "    <tr>\n",
       "      <th>1</th>\n",
       "      <td>[lazada special edition] infinix hot  /gb - tr...</td>\n",
       "      <td>handphone</td>\n",
       "    </tr>\n",
       "    <tr>\n",
       "      <th>2</th>\n",
       "      <td>realme c / hp murah . mah battery, octa-core h...</td>\n",
       "      <td>handphone</td>\n",
       "    </tr>\n",
       "    <tr>\n",
       "      <th>3</th>\n",
       "      <td>vivo y hp gb gb/gb all screen . inch mp helio ...</td>\n",
       "      <td>handphone</td>\n",
       "    </tr>\n",
       "    <tr>\n",
       "      <th>4</th>\n",
       "      <td>realme i hp gb/gb gb/gb qualcomm snapdragon  a...</td>\n",
       "      <td>handphone</td>\n",
       "    </tr>\n",
       "  </tbody>\n",
       "</table>\n",
       "</div>"
      ],
      "text/plain": [
       "                                               title   category\n",
       "0  [lazada exclusive] infinix smart  /gb - dual c...  handphone\n",
       "1  [lazada special edition] infinix hot  /gb - tr...  handphone\n",
       "2  realme c / hp murah . mah battery, octa-core h...  handphone\n",
       "3  vivo y hp gb gb/gb all screen . inch mp helio ...  handphone\n",
       "4  realme i hp gb/gb gb/gb qualcomm snapdragon  a...  handphone"
      ]
     },
     "execution_count": 117,
     "metadata": {},
     "output_type": "execute_result"
    }
   ],
   "source": [
    "data_lazada.head()"
   ]
  },
  {
   "cell_type": "markdown",
   "metadata": {},
   "source": [
    "### 3.3 Punctuation Removal"
   ]
  },
  {
   "cell_type": "code",
   "execution_count": 118,
   "metadata": {
    "ExecuteTime": {
     "end_time": "2020-03-17T19:27:05.415993Z",
     "start_time": "2020-03-17T19:26:52.665732Z"
    }
   },
   "outputs": [],
   "source": [
    "for i in range(data_lazada.shape[0]):\n",
    "    data_lazada.loc[i,'title'] = data_lazada.loc[i,'title'].translate(str.maketrans(string.punctuation,\n",
    "                                                                                    ' '*len(string.punctuation)))"
   ]
  },
  {
   "cell_type": "code",
   "execution_count": 119,
   "metadata": {
    "ExecuteTime": {
     "end_time": "2020-03-17T19:27:05.441046Z",
     "start_time": "2020-03-17T19:27:05.419710Z"
    },
    "scrolled": true
   },
   "outputs": [
    {
     "data": {
      "text/html": [
       "<div>\n",
       "<style scoped>\n",
       "    .dataframe tbody tr th:only-of-type {\n",
       "        vertical-align: middle;\n",
       "    }\n",
       "\n",
       "    .dataframe tbody tr th {\n",
       "        vertical-align: top;\n",
       "    }\n",
       "\n",
       "    .dataframe thead th {\n",
       "        text-align: right;\n",
       "    }\n",
       "</style>\n",
       "<table border=\"1\" class=\"dataframe\">\n",
       "  <thead>\n",
       "    <tr style=\"text-align: right;\">\n",
       "      <th></th>\n",
       "      <th>title</th>\n",
       "      <th>category</th>\n",
       "    </tr>\n",
       "  </thead>\n",
       "  <tbody>\n",
       "    <tr>\n",
       "      <th>0</th>\n",
       "      <td>lazada exclusive  infinix smart   gb   dual c...</td>\n",
       "      <td>handphone</td>\n",
       "    </tr>\n",
       "    <tr>\n",
       "      <th>1</th>\n",
       "      <td>lazada special edition  infinix hot   gb   tr...</td>\n",
       "      <td>handphone</td>\n",
       "    </tr>\n",
       "    <tr>\n",
       "      <th>2</th>\n",
       "      <td>realme c   hp murah   mah battery  octa core h...</td>\n",
       "      <td>handphone</td>\n",
       "    </tr>\n",
       "    <tr>\n",
       "      <th>3</th>\n",
       "      <td>vivo y hp gb gb gb all screen   inch mp helio ...</td>\n",
       "      <td>handphone</td>\n",
       "    </tr>\n",
       "    <tr>\n",
       "      <th>4</th>\n",
       "      <td>realme i hp gb gb gb gb qualcomm snapdragon  a...</td>\n",
       "      <td>handphone</td>\n",
       "    </tr>\n",
       "  </tbody>\n",
       "</table>\n",
       "</div>"
      ],
      "text/plain": [
       "                                               title   category\n",
       "0   lazada exclusive  infinix smart   gb   dual c...  handphone\n",
       "1   lazada special edition  infinix hot   gb   tr...  handphone\n",
       "2  realme c   hp murah   mah battery  octa core h...  handphone\n",
       "3  vivo y hp gb gb gb all screen   inch mp helio ...  handphone\n",
       "4  realme i hp gb gb gb gb qualcomm snapdragon  a...  handphone"
      ]
     },
     "execution_count": 119,
     "metadata": {},
     "output_type": "execute_result"
    }
   ],
   "source": [
    "data_lazada.head()"
   ]
  },
  {
   "cell_type": "markdown",
   "metadata": {},
   "source": [
    "### 3.4 Extra Space Removal"
   ]
  },
  {
   "cell_type": "code",
   "execution_count": 120,
   "metadata": {
    "ExecuteTime": {
     "end_time": "2020-03-17T19:27:22.736001Z",
     "start_time": "2020-03-17T19:27:05.445685Z"
    }
   },
   "outputs": [],
   "source": [
    "for i in range(data_lazada.shape[0]):\n",
    "    data_lazada.loc[i,'title'] = ' '.join(data_lazada.loc[i,'title'].split())"
   ]
  },
  {
   "cell_type": "code",
   "execution_count": 121,
   "metadata": {
    "ExecuteTime": {
     "end_time": "2020-03-17T19:27:22.761552Z",
     "start_time": "2020-03-17T19:27:22.740106Z"
    }
   },
   "outputs": [
    {
     "data": {
      "text/html": [
       "<div>\n",
       "<style scoped>\n",
       "    .dataframe tbody tr th:only-of-type {\n",
       "        vertical-align: middle;\n",
       "    }\n",
       "\n",
       "    .dataframe tbody tr th {\n",
       "        vertical-align: top;\n",
       "    }\n",
       "\n",
       "    .dataframe thead th {\n",
       "        text-align: right;\n",
       "    }\n",
       "</style>\n",
       "<table border=\"1\" class=\"dataframe\">\n",
       "  <thead>\n",
       "    <tr style=\"text-align: right;\">\n",
       "      <th></th>\n",
       "      <th>title</th>\n",
       "      <th>category</th>\n",
       "    </tr>\n",
       "  </thead>\n",
       "  <tbody>\n",
       "    <tr>\n",
       "      <th>0</th>\n",
       "      <td>lazada exclusive infinix smart gb dual camera ...</td>\n",
       "      <td>handphone</td>\n",
       "    </tr>\n",
       "    <tr>\n",
       "      <th>1</th>\n",
       "      <td>lazada special edition infinix hot gb triple c...</td>\n",
       "      <td>handphone</td>\n",
       "    </tr>\n",
       "    <tr>\n",
       "      <th>2</th>\n",
       "      <td>realme c hp murah mah battery octa core helio ...</td>\n",
       "      <td>handphone</td>\n",
       "    </tr>\n",
       "    <tr>\n",
       "      <th>3</th>\n",
       "      <td>vivo y hp gb gb gb all screen inch mp helio p ...</td>\n",
       "      <td>handphone</td>\n",
       "    </tr>\n",
       "    <tr>\n",
       "      <th>4</th>\n",
       "      <td>realme i hp gb gb gb gb qualcomm snapdragon ai...</td>\n",
       "      <td>handphone</td>\n",
       "    </tr>\n",
       "  </tbody>\n",
       "</table>\n",
       "</div>"
      ],
      "text/plain": [
       "                                               title   category\n",
       "0  lazada exclusive infinix smart gb dual camera ...  handphone\n",
       "1  lazada special edition infinix hot gb triple c...  handphone\n",
       "2  realme c hp murah mah battery octa core helio ...  handphone\n",
       "3  vivo y hp gb gb gb all screen inch mp helio p ...  handphone\n",
       "4  realme i hp gb gb gb gb qualcomm snapdragon ai...  handphone"
      ]
     },
     "execution_count": 121,
     "metadata": {},
     "output_type": "execute_result"
    }
   ],
   "source": [
    "data_lazada.head()"
   ]
  },
  {
   "cell_type": "markdown",
   "metadata": {},
   "source": [
    "## 4 Normalization"
   ]
  },
  {
   "cell_type": "markdown",
   "metadata": {},
   "source": [
    "### 4.1 Stemming with Nazief and Adriani Algorithm"
   ]
  },
  {
   "cell_type": "code",
   "execution_count": 122,
   "metadata": {
    "ExecuteTime": {
     "end_time": "2020-03-17T19:57:26.318115Z",
     "start_time": "2020-03-17T19:27:22.766435Z"
    }
   },
   "outputs": [],
   "source": [
    "factory = StemmerFactory()\n",
    "stemmer = factory.create_stemmer()\n",
    "for i in range(data_lazada.shape[0]):\n",
    "    data_lazada.loc[i,'title'] = stemmer.stem(data_lazada.loc[i,'title'])"
   ]
  },
  {
   "cell_type": "code",
   "execution_count": 123,
   "metadata": {
    "ExecuteTime": {
     "end_time": "2020-03-17T19:57:26.973414Z",
     "start_time": "2020-03-17T19:57:26.410146Z"
    }
   },
   "outputs": [
    {
     "data": {
      "text/html": [
       "<div>\n",
       "<style scoped>\n",
       "    .dataframe tbody tr th:only-of-type {\n",
       "        vertical-align: middle;\n",
       "    }\n",
       "\n",
       "    .dataframe tbody tr th {\n",
       "        vertical-align: top;\n",
       "    }\n",
       "\n",
       "    .dataframe thead th {\n",
       "        text-align: right;\n",
       "    }\n",
       "</style>\n",
       "<table border=\"1\" class=\"dataframe\">\n",
       "  <thead>\n",
       "    <tr style=\"text-align: right;\">\n",
       "      <th></th>\n",
       "      <th>title</th>\n",
       "      <th>category</th>\n",
       "    </tr>\n",
       "  </thead>\n",
       "  <tbody>\n",
       "    <tr>\n",
       "      <th>0</th>\n",
       "      <td>lazada exclusive infinix smart gb dual camera ...</td>\n",
       "      <td>handphone</td>\n",
       "    </tr>\n",
       "    <tr>\n",
       "      <th>1</th>\n",
       "      <td>lazada special edition infinix hot gb triple c...</td>\n",
       "      <td>handphone</td>\n",
       "    </tr>\n",
       "    <tr>\n",
       "      <th>2</th>\n",
       "      <td>realme c hp murah mah battery octa core hio p ...</td>\n",
       "      <td>handphone</td>\n",
       "    </tr>\n",
       "    <tr>\n",
       "      <th>3</th>\n",
       "      <td>vivo y hp gb gb gb all screen inch mp hio p tr...</td>\n",
       "      <td>handphone</td>\n",
       "    </tr>\n",
       "    <tr>\n",
       "      <th>4</th>\n",
       "      <td>realme i hp gb gb gb gb qualcomm snapdragon ai...</td>\n",
       "      <td>handphone</td>\n",
       "    </tr>\n",
       "  </tbody>\n",
       "</table>\n",
       "</div>"
      ],
      "text/plain": [
       "                                               title   category\n",
       "0  lazada exclusive infinix smart gb dual camera ...  handphone\n",
       "1  lazada special edition infinix hot gb triple c...  handphone\n",
       "2  realme c hp murah mah battery octa core hio p ...  handphone\n",
       "3  vivo y hp gb gb gb all screen inch mp hio p tr...  handphone\n",
       "4  realme i hp gb gb gb gb qualcomm snapdragon ai...  handphone"
      ]
     },
     "execution_count": 123,
     "metadata": {},
     "output_type": "execute_result"
    }
   ],
   "source": [
    "data_lazada.head()"
   ]
  },
  {
   "cell_type": "markdown",
   "metadata": {},
   "source": [
    "## 5 Stopwords Removal"
   ]
  },
  {
   "cell_type": "code",
   "execution_count": 124,
   "metadata": {
    "ExecuteTime": {
     "end_time": "2020-03-17T19:57:41.396174Z",
     "start_time": "2020-03-17T19:57:26.979237Z"
    }
   },
   "outputs": [],
   "source": [
    "factory = StopWordRemoverFactory()\n",
    "stopword = factory.create_stop_word_remover()\n",
    "for i in range(data_lazada.shape[0]):\n",
    "    data_lazada.loc[i,'title'] = stopword.remove(data_lazada.loc[i,'title'])"
   ]
  },
  {
   "cell_type": "code",
   "execution_count": 125,
   "metadata": {
    "ExecuteTime": {
     "end_time": "2020-03-17T19:57:41.486157Z",
     "start_time": "2020-03-17T19:57:41.462847Z"
    }
   },
   "outputs": [
    {
     "data": {
      "text/html": [
       "<div>\n",
       "<style scoped>\n",
       "    .dataframe tbody tr th:only-of-type {\n",
       "        vertical-align: middle;\n",
       "    }\n",
       "\n",
       "    .dataframe tbody tr th {\n",
       "        vertical-align: top;\n",
       "    }\n",
       "\n",
       "    .dataframe thead th {\n",
       "        text-align: right;\n",
       "    }\n",
       "</style>\n",
       "<table border=\"1\" class=\"dataframe\">\n",
       "  <thead>\n",
       "    <tr style=\"text-align: right;\">\n",
       "      <th></th>\n",
       "      <th>title</th>\n",
       "      <th>category</th>\n",
       "    </tr>\n",
       "  </thead>\n",
       "  <tbody>\n",
       "    <tr>\n",
       "      <th>0</th>\n",
       "      <td>lazada exclusive infinix smart gb dual camera ...</td>\n",
       "      <td>handphone</td>\n",
       "    </tr>\n",
       "    <tr>\n",
       "      <th>1</th>\n",
       "      <td>lazada special edition infinix hot gb triple c...</td>\n",
       "      <td>handphone</td>\n",
       "    </tr>\n",
       "    <tr>\n",
       "      <th>2</th>\n",
       "      <td>realme c hp murah mah battery octa core hio p ...</td>\n",
       "      <td>handphone</td>\n",
       "    </tr>\n",
       "    <tr>\n",
       "      <th>3</th>\n",
       "      <td>vivo y hp gb gb gb all screen inch mp hio p tr...</td>\n",
       "      <td>handphone</td>\n",
       "    </tr>\n",
       "    <tr>\n",
       "      <th>4</th>\n",
       "      <td>realme i hp gb gb gb gb qualcomm snapdragon ai...</td>\n",
       "      <td>handphone</td>\n",
       "    </tr>\n",
       "  </tbody>\n",
       "</table>\n",
       "</div>"
      ],
      "text/plain": [
       "                                               title   category\n",
       "0  lazada exclusive infinix smart gb dual camera ...  handphone\n",
       "1  lazada special edition infinix hot gb triple c...  handphone\n",
       "2  realme c hp murah mah battery octa core hio p ...  handphone\n",
       "3  vivo y hp gb gb gb all screen inch mp hio p tr...  handphone\n",
       "4  realme i hp gb gb gb gb qualcomm snapdragon ai...  handphone"
      ]
     },
     "execution_count": 125,
     "metadata": {},
     "output_type": "execute_result"
    }
   ],
   "source": [
    "data_lazada.head()"
   ]
  },
  {
   "cell_type": "markdown",
   "metadata": {},
   "source": [
    "## 6 Term and Its Frequency"
   ]
  },
  {
   "cell_type": "code",
   "execution_count": 130,
   "metadata": {
    "ExecuteTime": {
     "end_time": "2020-03-17T20:03:56.205269Z",
     "start_time": "2020-03-17T20:03:56.128765Z"
    },
    "scrolled": false
   },
   "outputs": [
    {
     "name": "stdout",
     "output_type": "stream",
     "text": [
      "tunik         2973\n",
      "gb            1791\n",
      "wanita        1470\n",
      "mascara       1429\n",
      "murah          895\n",
      "garansi        760\n",
      "baju           756\n",
      "resmi          726\n",
      "atas           655\n",
      "waterproof     609\n",
      "dtype: int64\n"
     ]
    }
   ],
   "source": [
    "term_freq = pd.Series(' '.join(data_lazada['title']).split(' ')).value_counts()\n",
    "print(term_freq[:10])"
   ]
  },
  {
   "cell_type": "markdown",
   "metadata": {},
   "source": [
    "## Save the Data after Pre-processing"
   ]
  },
  {
   "cell_type": "code",
   "execution_count": 127,
   "metadata": {
    "ExecuteTime": {
     "end_time": "2020-03-17T19:57:42.542945Z",
     "start_time": "2020-03-17T19:57:41.902711Z"
    }
   },
   "outputs": [],
   "source": [
    "# The whole data\n",
    "data_lazada.to_csv('Datasets/interim/1 Lazada-product after Preprocessing.csv',index=False)"
   ]
  },
  {
   "cell_type": "code",
   "execution_count": 131,
   "metadata": {
    "ExecuteTime": {
     "end_time": "2020-03-17T20:04:00.592804Z",
     "start_time": "2020-03-17T20:04:00.509204Z"
    }
   },
   "outputs": [
    {
     "name": "stderr",
     "output_type": "stream",
     "text": [
      "/usr/local/lib/python3.6/dist-packages/ipykernel_launcher.py:2: FutureWarning: The signature of `Series.to_csv` was aligned to that of `DataFrame.to_csv`, and argument 'header' will change its default value from False to True: please pass an explicit value to suppress this warning.\n",
      "  \n"
     ]
    }
   ],
   "source": [
    "# Term frequency data\n",
    "term_freq.to_csv('Datasets/interim/0 Term Frequency.csv')"
   ]
  }
 ],
 "metadata": {
  "kernelspec": {
   "display_name": "Python 3",
   "language": "python",
   "name": "python3"
  },
  "language_info": {
   "codemirror_mode": {
    "name": "ipython",
    "version": 3
   },
   "file_extension": ".py",
   "mimetype": "text/x-python",
   "name": "python",
   "nbconvert_exporter": "python",
   "pygments_lexer": "ipython3",
   "version": "3.6.9"
  }
 },
 "nbformat": 4,
 "nbformat_minor": 2
}
